{
 "cells": [
  {
   "cell_type": "markdown",
   "metadata": {},
   "source": [
    "# pandas tutorial (Day-11)\n",
    "This notebook explains........"
   ]
  },
  {
   "cell_type": "markdown",
   "metadata": {},
   "source": [
    "# pip install pandas\n",
    "# pip install numpy"
   ]
  },
  {
   "cell_type": "code",
   "execution_count": null,
   "metadata": {},
   "outputs": [],
   "source": []
  },
  {
   "cell_type": "code",
   "execution_count": 1,
   "metadata": {},
   "outputs": [
    {
     "name": "stdout",
     "output_type": "stream",
     "text": [
      "Requirement already satisfied: pandas in c:\\users\\sadiq1\\appdata\\local\\programs\\python\\python311\\lib\\site-packages (2.1.1)\n",
      "Requirement already satisfied: numpy>=1.23.2 in c:\\users\\sadiq1\\appdata\\local\\programs\\python\\python311\\lib\\site-packages (from pandas) (1.26.0)\n",
      "Requirement already satisfied: python-dateutil>=2.8.2 in c:\\users\\sadiq1\\appdata\\local\\programs\\python\\python311\\lib\\site-packages (from pandas) (2.8.2)\n",
      "Requirement already satisfied: pytz>=2020.1 in c:\\users\\sadiq1\\appdata\\local\\programs\\python\\python311\\lib\\site-packages (from pandas) (2023.3.post1)\n",
      "Requirement already satisfied: tzdata>=2022.1 in c:\\users\\sadiq1\\appdata\\local\\programs\\python\\python311\\lib\\site-packages (from pandas) (2023.3)\n",
      "Requirement already satisfied: six>=1.5 in c:\\users\\sadiq1\\appdata\\local\\programs\\python\\python311\\lib\\site-packages (from python-dateutil>=2.8.2->pandas) (1.16.0)\n",
      "Note: you may need to restart the kernel to use updated packages.\n"
     ]
    },
    {
     "name": "stderr",
     "output_type": "stream",
     "text": [
      "\n",
      "[notice] A new release of pip is available: 23.1.2 -> 23.3.1\n",
      "[notice] To update, run: python.exe -m pip install --upgrade pip\n"
     ]
    }
   ],
   "source": [
    "pip install pandas"
   ]
  },
  {
   "cell_type": "code",
   "execution_count": 2,
   "metadata": {},
   "outputs": [
    {
     "name": "stdout",
     "output_type": "stream",
     "text": [
      "Note: you may need to restart the kernel to use updated packages.Requirement already satisfied: numpy in c:\\users\\sadiq1\\appdata\\local\\programs\\python\\python311\\lib\\site-packages (1.26.0)\n",
      "\n"
     ]
    },
    {
     "name": "stderr",
     "output_type": "stream",
     "text": [
      "\n",
      "[notice] A new release of pip is available: 23.1.2 -> 23.3.1\n",
      "[notice] To update, run: python.exe -m pip install --upgrade pip\n"
     ]
    }
   ],
   "source": [
    "pip install numpy"
   ]
  },
  {
   "cell_type": "markdown",
   "metadata": {},
   "source": [
    "# import librraies"
   ]
  },
  {
   "cell_type": "code",
   "execution_count": 3,
   "metadata": {},
   "outputs": [],
   "source": [
    "import pandas as pd\n",
    "import numpy as np\n"
   ]
  },
  {
   "cell_type": "code",
   "execution_count": 4,
   "metadata": {},
   "outputs": [
    {
     "data": {
      "text/plain": [
       "0    1.0\n",
       "1    3.0\n",
       "2    5.0\n",
       "3    NaN\n",
       "4    7.0\n",
       "5    9.0\n",
       "dtype: float64"
      ]
     },
     "execution_count": 4,
     "metadata": {},
     "output_type": "execute_result"
    }
   ],
   "source": [
    "# object creation\n",
    "s = pd.Series([1,3,5,np.nan,7,9])\n",
    "s"
   ]
  },
  {
   "cell_type": "code",
   "execution_count": null,
   "metadata": {},
   "outputs": [],
   "source": []
  },
  {
   "cell_type": "code",
   "execution_count": 5,
   "metadata": {},
   "outputs": [
    {
     "data": {
      "text/plain": [
       "DatetimeIndex(['2024-01-01', '2024-01-02', '2024-01-03', '2024-01-04',\n",
       "               '2024-01-05', '2024-01-06', '2024-01-07', '2024-01-08'],\n",
       "              dtype='datetime64[ns]', freq='D')"
      ]
     },
     "execution_count": 5,
     "metadata": {},
     "output_type": "execute_result"
    }
   ],
   "source": [
    "dates = pd.date_range(\"20240101\", periods=8)\n",
    "dates"
   ]
  },
  {
   "cell_type": "code",
   "execution_count": 6,
   "metadata": {},
   "outputs": [
    {
     "data": {
      "text/html": [
       "<div>\n",
       "<style scoped>\n",
       "    .dataframe tbody tr th:only-of-type {\n",
       "        vertical-align: middle;\n",
       "    }\n",
       "\n",
       "    .dataframe tbody tr th {\n",
       "        vertical-align: top;\n",
       "    }\n",
       "\n",
       "    .dataframe thead th {\n",
       "        text-align: right;\n",
       "    }\n",
       "</style>\n",
       "<table border=\"1\" class=\"dataframe\">\n",
       "  <thead>\n",
       "    <tr style=\"text-align: right;\">\n",
       "      <th></th>\n",
       "      <th>A</th>\n",
       "      <th>B</th>\n",
       "      <th>C</th>\n",
       "      <th>D</th>\n",
       "      <th>E</th>\n",
       "    </tr>\n",
       "  </thead>\n",
       "  <tbody>\n",
       "    <tr>\n",
       "      <th>2024-01-01</th>\n",
       "      <td>0.669886</td>\n",
       "      <td>0.364498</td>\n",
       "      <td>0.662801</td>\n",
       "      <td>0.432233</td>\n",
       "      <td>-0.203809</td>\n",
       "    </tr>\n",
       "    <tr>\n",
       "      <th>2024-01-02</th>\n",
       "      <td>-0.429506</td>\n",
       "      <td>0.688993</td>\n",
       "      <td>0.487049</td>\n",
       "      <td>-1.367373</td>\n",
       "      <td>0.114216</td>\n",
       "    </tr>\n",
       "    <tr>\n",
       "      <th>2024-01-03</th>\n",
       "      <td>0.851313</td>\n",
       "      <td>-1.305526</td>\n",
       "      <td>-0.235975</td>\n",
       "      <td>0.036505</td>\n",
       "      <td>-1.673769</td>\n",
       "    </tr>\n",
       "    <tr>\n",
       "      <th>2024-01-04</th>\n",
       "      <td>-1.338739</td>\n",
       "      <td>-1.042051</td>\n",
       "      <td>-1.697539</td>\n",
       "      <td>-0.619307</td>\n",
       "      <td>-0.853527</td>\n",
       "    </tr>\n",
       "    <tr>\n",
       "      <th>2024-01-05</th>\n",
       "      <td>-1.050175</td>\n",
       "      <td>0.482571</td>\n",
       "      <td>0.275985</td>\n",
       "      <td>-0.184600</td>\n",
       "      <td>0.049065</td>\n",
       "    </tr>\n",
       "    <tr>\n",
       "      <th>2024-01-06</th>\n",
       "      <td>-0.095259</td>\n",
       "      <td>0.182420</td>\n",
       "      <td>-1.160638</td>\n",
       "      <td>-1.425029</td>\n",
       "      <td>-0.729846</td>\n",
       "    </tr>\n",
       "  </tbody>\n",
       "</table>\n",
       "</div>"
      ],
      "text/plain": [
       "                   A         B         C         D         E\n",
       "2024-01-01  0.669886  0.364498  0.662801  0.432233 -0.203809\n",
       "2024-01-02 -0.429506  0.688993  0.487049 -1.367373  0.114216\n",
       "2024-01-03  0.851313 -1.305526 -0.235975  0.036505 -1.673769\n",
       "2024-01-04 -1.338739 -1.042051 -1.697539 -0.619307 -0.853527\n",
       "2024-01-05 -1.050175  0.482571  0.275985 -0.184600  0.049065\n",
       "2024-01-06 -0.095259  0.182420 -1.160638 -1.425029 -0.729846"
      ]
     },
     "execution_count": 6,
     "metadata": {},
     "output_type": "execute_result"
    }
   ],
   "source": [
    "dates = pd.date_range(\"20240101\", periods=6)\n",
    "dates\n",
    "df = pd.DataFrame(np.random.randn(6,5),index=dates,columns=list(\"ABCDE\"))\n",
    "df"
   ]
  },
  {
   "cell_type": "markdown",
   "metadata": {},
   "source": [
    "# add dictionary"
   ]
  },
  {
   "cell_type": "code",
   "execution_count": 33,
   "metadata": {},
   "outputs": [
    {
     "data": {
      "text/plain": [
       "A          float64\n",
       "B    datetime64[s]\n",
       "C          float32\n",
       "D            int32\n",
       "E         category\n",
       "F           object\n",
       "dtype: object"
      ]
     },
     "execution_count": 33,
     "metadata": {},
     "output_type": "execute_result"
    }
   ],
   "source": [
    "df2=pd.DataFrame(\n",
    "    {\n",
    "        \"A\": 1.0,\n",
    "        \"B\" : pd.Timestamp(\"20230104\") ,\n",
    "        \"C\" : pd.Series(1, index=list(range(4)), dtype=\"float32\"),\n",
    "        \"D\" : np.array([3]*4,dtype=\"int32\"),\n",
    "        \"E\" : pd.Categorical([\"girls\",\"train\", \"test\" , \"girls\"]) ,\n",
    "        \"F\" : \"females\" ,\n",
    "    }\n",
    ")\n",
    "df2\n",
    "df2.dtypes"
   ]
  },
  {
   "cell_type": "code",
   "execution_count": 8,
   "metadata": {},
   "outputs": [
    {
     "data": {
      "text/html": [
       "<div>\n",
       "<style scoped>\n",
       "    .dataframe tbody tr th:only-of-type {\n",
       "        vertical-align: middle;\n",
       "    }\n",
       "\n",
       "    .dataframe tbody tr th {\n",
       "        vertical-align: top;\n",
       "    }\n",
       "\n",
       "    .dataframe thead th {\n",
       "        text-align: right;\n",
       "    }\n",
       "</style>\n",
       "<table border=\"1\" class=\"dataframe\">\n",
       "  <thead>\n",
       "    <tr style=\"text-align: right;\">\n",
       "      <th></th>\n",
       "      <th>A</th>\n",
       "      <th>B</th>\n",
       "      <th>C</th>\n",
       "      <th>D</th>\n",
       "      <th>E</th>\n",
       "    </tr>\n",
       "  </thead>\n",
       "  <tbody>\n",
       "    <tr>\n",
       "      <th>2024-01-01</th>\n",
       "      <td>0.669886</td>\n",
       "      <td>0.364498</td>\n",
       "      <td>0.662801</td>\n",
       "      <td>0.432233</td>\n",
       "      <td>-0.203809</td>\n",
       "    </tr>\n",
       "    <tr>\n",
       "      <th>2024-01-02</th>\n",
       "      <td>-0.429506</td>\n",
       "      <td>0.688993</td>\n",
       "      <td>0.487049</td>\n",
       "      <td>-1.367373</td>\n",
       "      <td>0.114216</td>\n",
       "    </tr>\n",
       "  </tbody>\n",
       "</table>\n",
       "</div>"
      ],
      "text/plain": [
       "                   A         B         C         D         E\n",
       "2024-01-01  0.669886  0.364498  0.662801  0.432233 -0.203809\n",
       "2024-01-02 -0.429506  0.688993  0.487049 -1.367373  0.114216"
      ]
     },
     "execution_count": 8,
     "metadata": {},
     "output_type": "execute_result"
    }
   ],
   "source": [
    "df.head(2)"
   ]
  },
  {
   "cell_type": "code",
   "execution_count": 9,
   "metadata": {},
   "outputs": [
    {
     "data": {
      "text/html": [
       "<div>\n",
       "<style scoped>\n",
       "    .dataframe tbody tr th:only-of-type {\n",
       "        vertical-align: middle;\n",
       "    }\n",
       "\n",
       "    .dataframe tbody tr th {\n",
       "        vertical-align: top;\n",
       "    }\n",
       "\n",
       "    .dataframe thead th {\n",
       "        text-align: right;\n",
       "    }\n",
       "</style>\n",
       "<table border=\"1\" class=\"dataframe\">\n",
       "  <thead>\n",
       "    <tr style=\"text-align: right;\">\n",
       "      <th></th>\n",
       "      <th>A</th>\n",
       "      <th>B</th>\n",
       "      <th>C</th>\n",
       "      <th>D</th>\n",
       "      <th>E</th>\n",
       "    </tr>\n",
       "  </thead>\n",
       "  <tbody>\n",
       "    <tr>\n",
       "      <th>2024-01-04</th>\n",
       "      <td>-1.338739</td>\n",
       "      <td>-1.042051</td>\n",
       "      <td>-1.697539</td>\n",
       "      <td>-0.619307</td>\n",
       "      <td>-0.853527</td>\n",
       "    </tr>\n",
       "    <tr>\n",
       "      <th>2024-01-05</th>\n",
       "      <td>-1.050175</td>\n",
       "      <td>0.482571</td>\n",
       "      <td>0.275985</td>\n",
       "      <td>-0.184600</td>\n",
       "      <td>0.049065</td>\n",
       "    </tr>\n",
       "    <tr>\n",
       "      <th>2024-01-06</th>\n",
       "      <td>-0.095259</td>\n",
       "      <td>0.182420</td>\n",
       "      <td>-1.160638</td>\n",
       "      <td>-1.425029</td>\n",
       "      <td>-0.729846</td>\n",
       "    </tr>\n",
       "  </tbody>\n",
       "</table>\n",
       "</div>"
      ],
      "text/plain": [
       "                   A         B         C         D         E\n",
       "2024-01-04 -1.338739 -1.042051 -1.697539 -0.619307 -0.853527\n",
       "2024-01-05 -1.050175  0.482571  0.275985 -0.184600  0.049065\n",
       "2024-01-06 -0.095259  0.182420 -1.160638 -1.425029 -0.729846"
      ]
     },
     "execution_count": 9,
     "metadata": {},
     "output_type": "execute_result"
    }
   ],
   "source": [
    "df.tail(3)"
   ]
  },
  {
   "cell_type": "code",
   "execution_count": 10,
   "metadata": {},
   "outputs": [
    {
     "data": {
      "text/plain": [
       "Index([0, 1, 2, 3], dtype='int64')"
      ]
     },
     "execution_count": 10,
     "metadata": {},
     "output_type": "execute_result"
    }
   ],
   "source": [
    "df2.index"
   ]
  },
  {
   "cell_type": "code",
   "execution_count": 11,
   "metadata": {},
   "outputs": [
    {
     "data": {
      "text/plain": [
       "DatetimeIndex(['2024-01-01', '2024-01-02', '2024-01-03', '2024-01-04',\n",
       "               '2024-01-05', '2024-01-06'],\n",
       "              dtype='datetime64[ns]', freq='D')"
      ]
     },
     "execution_count": 11,
     "metadata": {},
     "output_type": "execute_result"
    }
   ],
   "source": [
    "df.index"
   ]
  },
  {
   "cell_type": "code",
   "execution_count": 12,
   "metadata": {},
   "outputs": [
    {
     "data": {
      "text/plain": [
       "array([[ 0.6698859 ,  0.36449827,  0.66280055,  0.43223279, -0.20380852],\n",
       "       [-0.42950635,  0.68899347,  0.48704859, -1.36737308,  0.11421603],\n",
       "       [ 0.85131332, -1.30552612, -0.23597536,  0.0365045 , -1.67376915],\n",
       "       [-1.33873911, -1.04205102, -1.69753875, -0.61930676, -0.85352719],\n",
       "       [-1.05017478,  0.48257074,  0.27598529, -0.18459958,  0.04906495],\n",
       "       [-0.09525863,  0.18241958, -1.16063839, -1.42502898, -0.72984648]])"
      ]
     },
     "execution_count": 12,
     "metadata": {},
     "output_type": "execute_result"
    }
   ],
   "source": [
    "df.to_numpy()"
   ]
  },
  {
   "cell_type": "markdown",
   "metadata": {},
   "source": [
    "# convert data into array"
   ]
  },
  {
   "cell_type": "code",
   "execution_count": 13,
   "metadata": {},
   "outputs": [
    {
     "data": {
      "text/plain": [
       "array([[1.0, Timestamp('2023-01-04 00:00:00'), 1.0, 3, 'girls',\n",
       "        'females'],\n",
       "       [1.0, Timestamp('2023-01-04 00:00:00'), 1.0, 3, 'train',\n",
       "        'females'],\n",
       "       [1.0, Timestamp('2023-01-04 00:00:00'), 1.0, 3, 'test', 'females'],\n",
       "       [1.0, Timestamp('2023-01-04 00:00:00'), 1.0, 3, 'girls',\n",
       "        'females']], dtype=object)"
      ]
     },
     "execution_count": 13,
     "metadata": {},
     "output_type": "execute_result"
    }
   ],
   "source": [
    "df2.to_numpy()"
   ]
  },
  {
   "cell_type": "code",
   "execution_count": 14,
   "metadata": {},
   "outputs": [
    {
     "data": {
      "text/html": [
       "<div>\n",
       "<style scoped>\n",
       "    .dataframe tbody tr th:only-of-type {\n",
       "        vertical-align: middle;\n",
       "    }\n",
       "\n",
       "    .dataframe tbody tr th {\n",
       "        vertical-align: top;\n",
       "    }\n",
       "\n",
       "    .dataframe thead th {\n",
       "        text-align: right;\n",
       "    }\n",
       "</style>\n",
       "<table border=\"1\" class=\"dataframe\">\n",
       "  <thead>\n",
       "    <tr style=\"text-align: right;\">\n",
       "      <th></th>\n",
       "      <th>A</th>\n",
       "      <th>B</th>\n",
       "      <th>C</th>\n",
       "      <th>D</th>\n",
       "      <th>E</th>\n",
       "    </tr>\n",
       "  </thead>\n",
       "  <tbody>\n",
       "    <tr>\n",
       "      <th>count</th>\n",
       "      <td>6.000000</td>\n",
       "      <td>6.000000</td>\n",
       "      <td>6.000000</td>\n",
       "      <td>6.000000</td>\n",
       "      <td>6.000000</td>\n",
       "    </tr>\n",
       "    <tr>\n",
       "      <th>mean</th>\n",
       "      <td>-0.232080</td>\n",
       "      <td>-0.104849</td>\n",
       "      <td>-0.278053</td>\n",
       "      <td>-0.521262</td>\n",
       "      <td>-0.549612</td>\n",
       "    </tr>\n",
       "    <tr>\n",
       "      <th>std</th>\n",
       "      <td>0.887576</td>\n",
       "      <td>0.848296</td>\n",
       "      <td>0.956369</td>\n",
       "      <td>0.758407</td>\n",
       "      <td>0.679300</td>\n",
       "    </tr>\n",
       "    <tr>\n",
       "      <th>min</th>\n",
       "      <td>-1.338739</td>\n",
       "      <td>-1.305526</td>\n",
       "      <td>-1.697539</td>\n",
       "      <td>-1.425029</td>\n",
       "      <td>-1.673769</td>\n",
       "    </tr>\n",
       "    <tr>\n",
       "      <th>25%</th>\n",
       "      <td>-0.895008</td>\n",
       "      <td>-0.735933</td>\n",
       "      <td>-0.929473</td>\n",
       "      <td>-1.180356</td>\n",
       "      <td>-0.822607</td>\n",
       "    </tr>\n",
       "    <tr>\n",
       "      <th>50%</th>\n",
       "      <td>-0.262382</td>\n",
       "      <td>0.273459</td>\n",
       "      <td>0.020005</td>\n",
       "      <td>-0.401953</td>\n",
       "      <td>-0.466828</td>\n",
       "    </tr>\n",
       "    <tr>\n",
       "      <th>75%</th>\n",
       "      <td>0.478600</td>\n",
       "      <td>0.453053</td>\n",
       "      <td>0.434283</td>\n",
       "      <td>-0.018772</td>\n",
       "      <td>-0.014153</td>\n",
       "    </tr>\n",
       "    <tr>\n",
       "      <th>max</th>\n",
       "      <td>0.851313</td>\n",
       "      <td>0.688993</td>\n",
       "      <td>0.662801</td>\n",
       "      <td>0.432233</td>\n",
       "      <td>0.114216</td>\n",
       "    </tr>\n",
       "  </tbody>\n",
       "</table>\n",
       "</div>"
      ],
      "text/plain": [
       "              A         B         C         D         E\n",
       "count  6.000000  6.000000  6.000000  6.000000  6.000000\n",
       "mean  -0.232080 -0.104849 -0.278053 -0.521262 -0.549612\n",
       "std    0.887576  0.848296  0.956369  0.758407  0.679300\n",
       "min   -1.338739 -1.305526 -1.697539 -1.425029 -1.673769\n",
       "25%   -0.895008 -0.735933 -0.929473 -1.180356 -0.822607\n",
       "50%   -0.262382  0.273459  0.020005 -0.401953 -0.466828\n",
       "75%    0.478600  0.453053  0.434283 -0.018772 -0.014153\n",
       "max    0.851313  0.688993  0.662801  0.432233  0.114216"
      ]
     },
     "execution_count": 14,
     "metadata": {},
     "output_type": "execute_result"
    }
   ],
   "source": [
    "df.describe()"
   ]
  },
  {
   "cell_type": "code",
   "execution_count": null,
   "metadata": {},
   "outputs": [],
   "source": []
  },
  {
   "cell_type": "code",
   "execution_count": null,
   "metadata": {},
   "outputs": [],
   "source": []
  },
  {
   "cell_type": "markdown",
   "metadata": {},
   "source": [
    "# Transport data"
   ]
  },
  {
   "cell_type": "code",
   "execution_count": 15,
   "metadata": {},
   "outputs": [
    {
     "data": {
      "text/html": [
       "<div>\n",
       "<style scoped>\n",
       "    .dataframe tbody tr th:only-of-type {\n",
       "        vertical-align: middle;\n",
       "    }\n",
       "\n",
       "    .dataframe tbody tr th {\n",
       "        vertical-align: top;\n",
       "    }\n",
       "\n",
       "    .dataframe thead th {\n",
       "        text-align: right;\n",
       "    }\n",
       "</style>\n",
       "<table border=\"1\" class=\"dataframe\">\n",
       "  <thead>\n",
       "    <tr style=\"text-align: right;\">\n",
       "      <th></th>\n",
       "      <th>2024-01-01</th>\n",
       "      <th>2024-01-02</th>\n",
       "      <th>2024-01-03</th>\n",
       "      <th>2024-01-04</th>\n",
       "      <th>2024-01-05</th>\n",
       "      <th>2024-01-06</th>\n",
       "    </tr>\n",
       "  </thead>\n",
       "  <tbody>\n",
       "    <tr>\n",
       "      <th>A</th>\n",
       "      <td>0.669886</td>\n",
       "      <td>-0.429506</td>\n",
       "      <td>0.851313</td>\n",
       "      <td>-1.338739</td>\n",
       "      <td>-1.050175</td>\n",
       "      <td>-0.095259</td>\n",
       "    </tr>\n",
       "    <tr>\n",
       "      <th>B</th>\n",
       "      <td>0.364498</td>\n",
       "      <td>0.688993</td>\n",
       "      <td>-1.305526</td>\n",
       "      <td>-1.042051</td>\n",
       "      <td>0.482571</td>\n",
       "      <td>0.182420</td>\n",
       "    </tr>\n",
       "    <tr>\n",
       "      <th>C</th>\n",
       "      <td>0.662801</td>\n",
       "      <td>0.487049</td>\n",
       "      <td>-0.235975</td>\n",
       "      <td>-1.697539</td>\n",
       "      <td>0.275985</td>\n",
       "      <td>-1.160638</td>\n",
       "    </tr>\n",
       "    <tr>\n",
       "      <th>D</th>\n",
       "      <td>0.432233</td>\n",
       "      <td>-1.367373</td>\n",
       "      <td>0.036505</td>\n",
       "      <td>-0.619307</td>\n",
       "      <td>-0.184600</td>\n",
       "      <td>-1.425029</td>\n",
       "    </tr>\n",
       "    <tr>\n",
       "      <th>E</th>\n",
       "      <td>-0.203809</td>\n",
       "      <td>0.114216</td>\n",
       "      <td>-1.673769</td>\n",
       "      <td>-0.853527</td>\n",
       "      <td>0.049065</td>\n",
       "      <td>-0.729846</td>\n",
       "    </tr>\n",
       "  </tbody>\n",
       "</table>\n",
       "</div>"
      ],
      "text/plain": [
       "   2024-01-01  2024-01-02  2024-01-03  2024-01-04  2024-01-05  2024-01-06\n",
       "A    0.669886   -0.429506    0.851313   -1.338739   -1.050175   -0.095259\n",
       "B    0.364498    0.688993   -1.305526   -1.042051    0.482571    0.182420\n",
       "C    0.662801    0.487049   -0.235975   -1.697539    0.275985   -1.160638\n",
       "D    0.432233   -1.367373    0.036505   -0.619307   -0.184600   -1.425029\n",
       "E   -0.203809    0.114216   -1.673769   -0.853527    0.049065   -0.729846"
      ]
     },
     "execution_count": 15,
     "metadata": {},
     "output_type": "execute_result"
    }
   ],
   "source": [
    "df.T"
   ]
  },
  {
   "cell_type": "code",
   "execution_count": 16,
   "metadata": {},
   "outputs": [
    {
     "data": {
      "text/html": [
       "<div>\n",
       "<style scoped>\n",
       "    .dataframe tbody tr th:only-of-type {\n",
       "        vertical-align: middle;\n",
       "    }\n",
       "\n",
       "    .dataframe tbody tr th {\n",
       "        vertical-align: top;\n",
       "    }\n",
       "\n",
       "    .dataframe thead th {\n",
       "        text-align: right;\n",
       "    }\n",
       "</style>\n",
       "<table border=\"1\" class=\"dataframe\">\n",
       "  <thead>\n",
       "    <tr style=\"text-align: right;\">\n",
       "      <th></th>\n",
       "      <th>A</th>\n",
       "      <th>B</th>\n",
       "      <th>C</th>\n",
       "      <th>D</th>\n",
       "      <th>E</th>\n",
       "    </tr>\n",
       "  </thead>\n",
       "  <tbody>\n",
       "    <tr>\n",
       "      <th>2024-01-01</th>\n",
       "      <td>0.669886</td>\n",
       "      <td>0.364498</td>\n",
       "      <td>0.662801</td>\n",
       "      <td>0.432233</td>\n",
       "      <td>-0.203809</td>\n",
       "    </tr>\n",
       "    <tr>\n",
       "      <th>2024-01-02</th>\n",
       "      <td>-0.429506</td>\n",
       "      <td>0.688993</td>\n",
       "      <td>0.487049</td>\n",
       "      <td>-1.367373</td>\n",
       "      <td>0.114216</td>\n",
       "    </tr>\n",
       "    <tr>\n",
       "      <th>2024-01-03</th>\n",
       "      <td>0.851313</td>\n",
       "      <td>-1.305526</td>\n",
       "      <td>-0.235975</td>\n",
       "      <td>0.036505</td>\n",
       "      <td>-1.673769</td>\n",
       "    </tr>\n",
       "    <tr>\n",
       "      <th>2024-01-04</th>\n",
       "      <td>-1.338739</td>\n",
       "      <td>-1.042051</td>\n",
       "      <td>-1.697539</td>\n",
       "      <td>-0.619307</td>\n",
       "      <td>-0.853527</td>\n",
       "    </tr>\n",
       "    <tr>\n",
       "      <th>2024-01-05</th>\n",
       "      <td>-1.050175</td>\n",
       "      <td>0.482571</td>\n",
       "      <td>0.275985</td>\n",
       "      <td>-0.184600</td>\n",
       "      <td>0.049065</td>\n",
       "    </tr>\n",
       "    <tr>\n",
       "      <th>2024-01-06</th>\n",
       "      <td>-0.095259</td>\n",
       "      <td>0.182420</td>\n",
       "      <td>-1.160638</td>\n",
       "      <td>-1.425029</td>\n",
       "      <td>-0.729846</td>\n",
       "    </tr>\n",
       "  </tbody>\n",
       "</table>\n",
       "</div>"
      ],
      "text/plain": [
       "                   A         B         C         D         E\n",
       "2024-01-01  0.669886  0.364498  0.662801  0.432233 -0.203809\n",
       "2024-01-02 -0.429506  0.688993  0.487049 -1.367373  0.114216\n",
       "2024-01-03  0.851313 -1.305526 -0.235975  0.036505 -1.673769\n",
       "2024-01-04 -1.338739 -1.042051 -1.697539 -0.619307 -0.853527\n",
       "2024-01-05 -1.050175  0.482571  0.275985 -0.184600  0.049065\n",
       "2024-01-06 -0.095259  0.182420 -1.160638 -1.425029 -0.729846"
      ]
     },
     "execution_count": 16,
     "metadata": {},
     "output_type": "execute_result"
    }
   ],
   "source": [
    "df.sort_index(axis=1, ascending=True)"
   ]
  },
  {
   "cell_type": "code",
   "execution_count": 17,
   "metadata": {},
   "outputs": [
    {
     "data": {
      "text/html": [
       "<div>\n",
       "<style scoped>\n",
       "    .dataframe tbody tr th:only-of-type {\n",
       "        vertical-align: middle;\n",
       "    }\n",
       "\n",
       "    .dataframe tbody tr th {\n",
       "        vertical-align: top;\n",
       "    }\n",
       "\n",
       "    .dataframe thead th {\n",
       "        text-align: right;\n",
       "    }\n",
       "</style>\n",
       "<table border=\"1\" class=\"dataframe\">\n",
       "  <thead>\n",
       "    <tr style=\"text-align: right;\">\n",
       "      <th></th>\n",
       "      <th>A</th>\n",
       "      <th>B</th>\n",
       "      <th>C</th>\n",
       "      <th>D</th>\n",
       "      <th>E</th>\n",
       "    </tr>\n",
       "  </thead>\n",
       "  <tbody>\n",
       "    <tr>\n",
       "      <th>2024-01-03</th>\n",
       "      <td>0.851313</td>\n",
       "      <td>-1.305526</td>\n",
       "      <td>-0.235975</td>\n",
       "      <td>0.036505</td>\n",
       "      <td>-1.673769</td>\n",
       "    </tr>\n",
       "    <tr>\n",
       "      <th>2024-01-04</th>\n",
       "      <td>-1.338739</td>\n",
       "      <td>-1.042051</td>\n",
       "      <td>-1.697539</td>\n",
       "      <td>-0.619307</td>\n",
       "      <td>-0.853527</td>\n",
       "    </tr>\n",
       "    <tr>\n",
       "      <th>2024-01-06</th>\n",
       "      <td>-0.095259</td>\n",
       "      <td>0.182420</td>\n",
       "      <td>-1.160638</td>\n",
       "      <td>-1.425029</td>\n",
       "      <td>-0.729846</td>\n",
       "    </tr>\n",
       "    <tr>\n",
       "      <th>2024-01-01</th>\n",
       "      <td>0.669886</td>\n",
       "      <td>0.364498</td>\n",
       "      <td>0.662801</td>\n",
       "      <td>0.432233</td>\n",
       "      <td>-0.203809</td>\n",
       "    </tr>\n",
       "    <tr>\n",
       "      <th>2024-01-05</th>\n",
       "      <td>-1.050175</td>\n",
       "      <td>0.482571</td>\n",
       "      <td>0.275985</td>\n",
       "      <td>-0.184600</td>\n",
       "      <td>0.049065</td>\n",
       "    </tr>\n",
       "    <tr>\n",
       "      <th>2024-01-02</th>\n",
       "      <td>-0.429506</td>\n",
       "      <td>0.688993</td>\n",
       "      <td>0.487049</td>\n",
       "      <td>-1.367373</td>\n",
       "      <td>0.114216</td>\n",
       "    </tr>\n",
       "  </tbody>\n",
       "</table>\n",
       "</div>"
      ],
      "text/plain": [
       "                   A         B         C         D         E\n",
       "2024-01-03  0.851313 -1.305526 -0.235975  0.036505 -1.673769\n",
       "2024-01-04 -1.338739 -1.042051 -1.697539 -0.619307 -0.853527\n",
       "2024-01-06 -0.095259  0.182420 -1.160638 -1.425029 -0.729846\n",
       "2024-01-01  0.669886  0.364498  0.662801  0.432233 -0.203809\n",
       "2024-01-05 -1.050175  0.482571  0.275985 -0.184600  0.049065\n",
       "2024-01-02 -0.429506  0.688993  0.487049 -1.367373  0.114216"
      ]
     },
     "execution_count": 17,
     "metadata": {},
     "output_type": "execute_result"
    }
   ],
   "source": [
    "df.sort_values(by=\"B\",ascending=True)"
   ]
  },
  {
   "cell_type": "code",
   "execution_count": 18,
   "metadata": {},
   "outputs": [
    {
     "data": {
      "text/plain": [
       "2024-01-01    0.364498\n",
       "2024-01-02    0.688993\n",
       "2024-01-03   -1.305526\n",
       "2024-01-04   -1.042051\n",
       "2024-01-05    0.482571\n",
       "2024-01-06    0.182420\n",
       "Freq: D, Name: B, dtype: float64"
      ]
     },
     "execution_count": 18,
     "metadata": {},
     "output_type": "execute_result"
    }
   ],
   "source": [
    "df[\"B\"]"
   ]
  },
  {
   "cell_type": "code",
   "execution_count": 19,
   "metadata": {},
   "outputs": [
    {
     "data": {
      "text/html": [
       "<div>\n",
       "<style scoped>\n",
       "    .dataframe tbody tr th:only-of-type {\n",
       "        vertical-align: middle;\n",
       "    }\n",
       "\n",
       "    .dataframe tbody tr th {\n",
       "        vertical-align: top;\n",
       "    }\n",
       "\n",
       "    .dataframe thead th {\n",
       "        text-align: right;\n",
       "    }\n",
       "</style>\n",
       "<table border=\"1\" class=\"dataframe\">\n",
       "  <thead>\n",
       "    <tr style=\"text-align: right;\">\n",
       "      <th></th>\n",
       "      <th>A</th>\n",
       "      <th>B</th>\n",
       "      <th>C</th>\n",
       "      <th>D</th>\n",
       "      <th>E</th>\n",
       "    </tr>\n",
       "  </thead>\n",
       "  <tbody>\n",
       "    <tr>\n",
       "      <th>2024-01-01</th>\n",
       "      <td>0.669886</td>\n",
       "      <td>0.364498</td>\n",
       "      <td>0.662801</td>\n",
       "      <td>0.432233</td>\n",
       "      <td>-0.203809</td>\n",
       "    </tr>\n",
       "    <tr>\n",
       "      <th>2024-01-02</th>\n",
       "      <td>-0.429506</td>\n",
       "      <td>0.688993</td>\n",
       "      <td>0.487049</td>\n",
       "      <td>-1.367373</td>\n",
       "      <td>0.114216</td>\n",
       "    </tr>\n",
       "    <tr>\n",
       "      <th>2024-01-03</th>\n",
       "      <td>0.851313</td>\n",
       "      <td>-1.305526</td>\n",
       "      <td>-0.235975</td>\n",
       "      <td>0.036505</td>\n",
       "      <td>-1.673769</td>\n",
       "    </tr>\n",
       "    <tr>\n",
       "      <th>2024-01-04</th>\n",
       "      <td>-1.338739</td>\n",
       "      <td>-1.042051</td>\n",
       "      <td>-1.697539</td>\n",
       "      <td>-0.619307</td>\n",
       "      <td>-0.853527</td>\n",
       "    </tr>\n",
       "    <tr>\n",
       "      <th>2024-01-05</th>\n",
       "      <td>-1.050175</td>\n",
       "      <td>0.482571</td>\n",
       "      <td>0.275985</td>\n",
       "      <td>-0.184600</td>\n",
       "      <td>0.049065</td>\n",
       "    </tr>\n",
       "    <tr>\n",
       "      <th>2024-01-06</th>\n",
       "      <td>-0.095259</td>\n",
       "      <td>0.182420</td>\n",
       "      <td>-1.160638</td>\n",
       "      <td>-1.425029</td>\n",
       "      <td>-0.729846</td>\n",
       "    </tr>\n",
       "  </tbody>\n",
       "</table>\n",
       "</div>"
      ],
      "text/plain": [
       "                   A         B         C         D         E\n",
       "2024-01-01  0.669886  0.364498  0.662801  0.432233 -0.203809\n",
       "2024-01-02 -0.429506  0.688993  0.487049 -1.367373  0.114216\n",
       "2024-01-03  0.851313 -1.305526 -0.235975  0.036505 -1.673769\n",
       "2024-01-04 -1.338739 -1.042051 -1.697539 -0.619307 -0.853527\n",
       "2024-01-05 -1.050175  0.482571  0.275985 -0.184600  0.049065\n",
       "2024-01-06 -0.095259  0.182420 -1.160638 -1.425029 -0.729846"
      ]
     },
     "execution_count": 19,
     "metadata": {},
     "output_type": "execute_result"
    }
   ],
   "source": [
    "df[0:]"
   ]
  },
  {
   "cell_type": "markdown",
   "metadata": {},
   "source": [
    "# Row wise selection"
   ]
  },
  {
   "cell_type": "code",
   "execution_count": 20,
   "metadata": {},
   "outputs": [
    {
     "data": {
      "text/html": [
       "<div>\n",
       "<style scoped>\n",
       "    .dataframe tbody tr th:only-of-type {\n",
       "        vertical-align: middle;\n",
       "    }\n",
       "\n",
       "    .dataframe tbody tr th {\n",
       "        vertical-align: top;\n",
       "    }\n",
       "\n",
       "    .dataframe thead th {\n",
       "        text-align: right;\n",
       "    }\n",
       "</style>\n",
       "<table border=\"1\" class=\"dataframe\">\n",
       "  <thead>\n",
       "    <tr style=\"text-align: right;\">\n",
       "      <th></th>\n",
       "      <th>A</th>\n",
       "      <th>B</th>\n",
       "      <th>C</th>\n",
       "      <th>D</th>\n",
       "      <th>E</th>\n",
       "    </tr>\n",
       "  </thead>\n",
       "  <tbody>\n",
       "    <tr>\n",
       "      <th>2024-01-01</th>\n",
       "      <td>0.669886</td>\n",
       "      <td>0.364498</td>\n",
       "      <td>0.662801</td>\n",
       "      <td>0.432233</td>\n",
       "      <td>-0.203809</td>\n",
       "    </tr>\n",
       "    <tr>\n",
       "      <th>2024-01-02</th>\n",
       "      <td>-0.429506</td>\n",
       "      <td>0.688993</td>\n",
       "      <td>0.487049</td>\n",
       "      <td>-1.367373</td>\n",
       "      <td>0.114216</td>\n",
       "    </tr>\n",
       "    <tr>\n",
       "      <th>2024-01-03</th>\n",
       "      <td>0.851313</td>\n",
       "      <td>-1.305526</td>\n",
       "      <td>-0.235975</td>\n",
       "      <td>0.036505</td>\n",
       "      <td>-1.673769</td>\n",
       "    </tr>\n",
       "    <tr>\n",
       "      <th>2024-01-04</th>\n",
       "      <td>-1.338739</td>\n",
       "      <td>-1.042051</td>\n",
       "      <td>-1.697539</td>\n",
       "      <td>-0.619307</td>\n",
       "      <td>-0.853527</td>\n",
       "    </tr>\n",
       "    <tr>\n",
       "      <th>2024-01-05</th>\n",
       "      <td>-1.050175</td>\n",
       "      <td>0.482571</td>\n",
       "      <td>0.275985</td>\n",
       "      <td>-0.184600</td>\n",
       "      <td>0.049065</td>\n",
       "    </tr>\n",
       "    <tr>\n",
       "      <th>2024-01-06</th>\n",
       "      <td>-0.095259</td>\n",
       "      <td>0.182420</td>\n",
       "      <td>-1.160638</td>\n",
       "      <td>-1.425029</td>\n",
       "      <td>-0.729846</td>\n",
       "    </tr>\n",
       "  </tbody>\n",
       "</table>\n",
       "</div>"
      ],
      "text/plain": [
       "                   A         B         C         D         E\n",
       "2024-01-01  0.669886  0.364498  0.662801  0.432233 -0.203809\n",
       "2024-01-02 -0.429506  0.688993  0.487049 -1.367373  0.114216\n",
       "2024-01-03  0.851313 -1.305526 -0.235975  0.036505 -1.673769\n",
       "2024-01-04 -1.338739 -1.042051 -1.697539 -0.619307 -0.853527\n",
       "2024-01-05 -1.050175  0.482571  0.275985 -0.184600  0.049065\n",
       "2024-01-06 -0.095259  0.182420 -1.160638 -1.425029 -0.729846"
      ]
     },
     "execution_count": 20,
     "metadata": {},
     "output_type": "execute_result"
    }
   ],
   "source": [
    "df[0:6]"
   ]
  },
  {
   "cell_type": "code",
   "execution_count": 21,
   "metadata": {},
   "outputs": [
    {
     "data": {
      "text/plain": [
       "A   -0.095259\n",
       "B    0.182420\n",
       "C   -1.160638\n",
       "D   -1.425029\n",
       "E   -0.729846\n",
       "Name: 2024-01-06 00:00:00, dtype: float64"
      ]
     },
     "execution_count": 21,
     "metadata": {},
     "output_type": "execute_result"
    }
   ],
   "source": [
    "# coloumns wise selections\n",
    "df.loc[dates[5]]"
   ]
  },
  {
   "cell_type": "code",
   "execution_count": 22,
   "metadata": {},
   "outputs": [
    {
     "data": {
      "text/html": [
       "<div>\n",
       "<style scoped>\n",
       "    .dataframe tbody tr th:only-of-type {\n",
       "        vertical-align: middle;\n",
       "    }\n",
       "\n",
       "    .dataframe tbody tr th {\n",
       "        vertical-align: top;\n",
       "    }\n",
       "\n",
       "    .dataframe thead th {\n",
       "        text-align: right;\n",
       "    }\n",
       "</style>\n",
       "<table border=\"1\" class=\"dataframe\">\n",
       "  <thead>\n",
       "    <tr style=\"text-align: right;\">\n",
       "      <th></th>\n",
       "      <th>A</th>\n",
       "      <th>B</th>\n",
       "    </tr>\n",
       "  </thead>\n",
       "  <tbody>\n",
       "    <tr>\n",
       "      <th>2024-01-01</th>\n",
       "      <td>0.669886</td>\n",
       "      <td>0.364498</td>\n",
       "    </tr>\n",
       "    <tr>\n",
       "      <th>2024-01-02</th>\n",
       "      <td>-0.429506</td>\n",
       "      <td>0.688993</td>\n",
       "    </tr>\n",
       "    <tr>\n",
       "      <th>2024-01-03</th>\n",
       "      <td>0.851313</td>\n",
       "      <td>-1.305526</td>\n",
       "    </tr>\n",
       "    <tr>\n",
       "      <th>2024-01-04</th>\n",
       "      <td>-1.338739</td>\n",
       "      <td>-1.042051</td>\n",
       "    </tr>\n",
       "    <tr>\n",
       "      <th>2024-01-05</th>\n",
       "      <td>-1.050175</td>\n",
       "      <td>0.482571</td>\n",
       "    </tr>\n",
       "    <tr>\n",
       "      <th>2024-01-06</th>\n",
       "      <td>-0.095259</td>\n",
       "      <td>0.182420</td>\n",
       "    </tr>\n",
       "  </tbody>\n",
       "</table>\n",
       "</div>"
      ],
      "text/plain": [
       "                   A         B\n",
       "2024-01-01  0.669886  0.364498\n",
       "2024-01-02 -0.429506  0.688993\n",
       "2024-01-03  0.851313 -1.305526\n",
       "2024-01-04 -1.338739 -1.042051\n",
       "2024-01-05 -1.050175  0.482571\n",
       "2024-01-06 -0.095259  0.182420"
      ]
     },
     "execution_count": 22,
     "metadata": {},
     "output_type": "execute_result"
    }
   ],
   "source": [
    "df.loc[: , [\"A\",\"B\"]]"
   ]
  },
  {
   "cell_type": "code",
   "execution_count": 23,
   "metadata": {},
   "outputs": [
    {
     "data": {
      "text/html": [
       "<div>\n",
       "<style scoped>\n",
       "    .dataframe tbody tr th:only-of-type {\n",
       "        vertical-align: middle;\n",
       "    }\n",
       "\n",
       "    .dataframe tbody tr th {\n",
       "        vertical-align: top;\n",
       "    }\n",
       "\n",
       "    .dataframe thead th {\n",
       "        text-align: right;\n",
       "    }\n",
       "</style>\n",
       "<table border=\"1\" class=\"dataframe\">\n",
       "  <thead>\n",
       "    <tr style=\"text-align: right;\">\n",
       "      <th></th>\n",
       "      <th>A</th>\n",
       "      <th>B</th>\n",
       "    </tr>\n",
       "  </thead>\n",
       "  <tbody>\n",
       "    <tr>\n",
       "      <th>2024-01-02</th>\n",
       "      <td>-0.429506</td>\n",
       "      <td>0.688993</td>\n",
       "    </tr>\n",
       "    <tr>\n",
       "      <th>2024-01-04</th>\n",
       "      <td>-1.338739</td>\n",
       "      <td>-1.042051</td>\n",
       "    </tr>\n",
       "  </tbody>\n",
       "</table>\n",
       "</div>"
      ],
      "text/plain": [
       "                   A         B\n",
       "2024-01-02 -0.429506  0.688993\n",
       "2024-01-04 -1.338739 -1.042051"
      ]
     },
     "execution_count": 23,
     "metadata": {},
     "output_type": "execute_result"
    }
   ],
   "source": [
    "df.loc[[\"20240102\",\"20240104\"],[\"A\" , \"B\"]]"
   ]
  },
  {
   "cell_type": "code",
   "execution_count": 24,
   "metadata": {},
   "outputs": [
    {
     "data": {
      "text/html": [
       "<div>\n",
       "<style scoped>\n",
       "    .dataframe tbody tr th:only-of-type {\n",
       "        vertical-align: middle;\n",
       "    }\n",
       "\n",
       "    .dataframe tbody tr th {\n",
       "        vertical-align: top;\n",
       "    }\n",
       "\n",
       "    .dataframe thead th {\n",
       "        text-align: right;\n",
       "    }\n",
       "</style>\n",
       "<table border=\"1\" class=\"dataframe\">\n",
       "  <thead>\n",
       "    <tr style=\"text-align: right;\">\n",
       "      <th></th>\n",
       "      <th>A</th>\n",
       "      <th>B</th>\n",
       "    </tr>\n",
       "  </thead>\n",
       "  <tbody>\n",
       "    <tr>\n",
       "      <th>2024-01-02</th>\n",
       "      <td>-0.429506</td>\n",
       "      <td>0.688993</td>\n",
       "    </tr>\n",
       "    <tr>\n",
       "      <th>2024-01-03</th>\n",
       "      <td>0.851313</td>\n",
       "      <td>-1.305526</td>\n",
       "    </tr>\n",
       "    <tr>\n",
       "      <th>2024-01-04</th>\n",
       "      <td>-1.338739</td>\n",
       "      <td>-1.042051</td>\n",
       "    </tr>\n",
       "  </tbody>\n",
       "</table>\n",
       "</div>"
      ],
      "text/plain": [
       "                   A         B\n",
       "2024-01-02 -0.429506  0.688993\n",
       "2024-01-03  0.851313 -1.305526\n",
       "2024-01-04 -1.338739 -1.042051"
      ]
     },
     "execution_count": 24,
     "metadata": {},
     "output_type": "execute_result"
    }
   ],
   "source": [
    "df.loc[\"20240102\" : \"20240104\",[\"A\" , \"B\"]]"
   ]
  },
  {
   "cell_type": "code",
   "execution_count": 25,
   "metadata": {},
   "outputs": [
    {
     "data": {
      "text/plain": [
       "A    0.851313\n",
       "B   -1.305526\n",
       "C   -0.235975\n",
       "Name: 2024-01-03 00:00:00, dtype: float64"
      ]
     },
     "execution_count": 25,
     "metadata": {},
     "output_type": "execute_result"
    }
   ],
   "source": [
    "df.loc[\"20240103\",[\"A\",\"B\",\"C\"]]"
   ]
  },
  {
   "cell_type": "code",
   "execution_count": 26,
   "metadata": {},
   "outputs": [
    {
     "data": {
      "text/plain": [
       "-1.1606383909847926"
      ]
     },
     "execution_count": 26,
     "metadata": {},
     "output_type": "execute_result"
    }
   ],
   "source": [
    "df.at[dates[5],\"C\"]"
   ]
  },
  {
   "cell_type": "code",
   "execution_count": 27,
   "metadata": {},
   "outputs": [
    {
     "data": {
      "text/html": [
       "<div>\n",
       "<style scoped>\n",
       "    .dataframe tbody tr th:only-of-type {\n",
       "        vertical-align: middle;\n",
       "    }\n",
       "\n",
       "    .dataframe tbody tr th {\n",
       "        vertical-align: top;\n",
       "    }\n",
       "\n",
       "    .dataframe thead th {\n",
       "        text-align: right;\n",
       "    }\n",
       "</style>\n",
       "<table border=\"1\" class=\"dataframe\">\n",
       "  <thead>\n",
       "    <tr style=\"text-align: right;\">\n",
       "      <th></th>\n",
       "      <th>A</th>\n",
       "      <th>B</th>\n",
       "      <th>C</th>\n",
       "      <th>D</th>\n",
       "      <th>E</th>\n",
       "    </tr>\n",
       "  </thead>\n",
       "  <tbody>\n",
       "    <tr>\n",
       "      <th>2024-01-03</th>\n",
       "      <td>0.851313</td>\n",
       "      <td>-1.305526</td>\n",
       "      <td>-0.235975</td>\n",
       "      <td>0.036505</td>\n",
       "      <td>-1.673769</td>\n",
       "    </tr>\n",
       "    <tr>\n",
       "      <th>2024-01-04</th>\n",
       "      <td>-1.338739</td>\n",
       "      <td>-1.042051</td>\n",
       "      <td>-1.697539</td>\n",
       "      <td>-0.619307</td>\n",
       "      <td>-0.853527</td>\n",
       "    </tr>\n",
       "    <tr>\n",
       "      <th>2024-01-05</th>\n",
       "      <td>-1.050175</td>\n",
       "      <td>0.482571</td>\n",
       "      <td>0.275985</td>\n",
       "      <td>-0.184600</td>\n",
       "      <td>0.049065</td>\n",
       "    </tr>\n",
       "    <tr>\n",
       "      <th>2024-01-06</th>\n",
       "      <td>-0.095259</td>\n",
       "      <td>0.182420</td>\n",
       "      <td>-1.160638</td>\n",
       "      <td>-1.425029</td>\n",
       "      <td>-0.729846</td>\n",
       "    </tr>\n",
       "  </tbody>\n",
       "</table>\n",
       "</div>"
      ],
      "text/plain": [
       "                   A         B         C         D         E\n",
       "2024-01-03  0.851313 -1.305526 -0.235975  0.036505 -1.673769\n",
       "2024-01-04 -1.338739 -1.042051 -1.697539 -0.619307 -0.853527\n",
       "2024-01-05 -1.050175  0.482571  0.275985 -0.184600  0.049065\n",
       "2024-01-06 -0.095259  0.182420 -1.160638 -1.425029 -0.729846"
      ]
     },
     "execution_count": 27,
     "metadata": {},
     "output_type": "execute_result"
    }
   ],
   "source": [
    "df.iloc[2:6]"
   ]
  },
  {
   "cell_type": "code",
   "execution_count": 28,
   "metadata": {},
   "outputs": [
    {
     "data": {
      "text/html": [
       "<div>\n",
       "<style scoped>\n",
       "    .dataframe tbody tr th:only-of-type {\n",
       "        vertical-align: middle;\n",
       "    }\n",
       "\n",
       "    .dataframe tbody tr th {\n",
       "        vertical-align: top;\n",
       "    }\n",
       "\n",
       "    .dataframe thead th {\n",
       "        text-align: right;\n",
       "    }\n",
       "</style>\n",
       "<table border=\"1\" class=\"dataframe\">\n",
       "  <thead>\n",
       "    <tr style=\"text-align: right;\">\n",
       "      <th></th>\n",
       "      <th>A</th>\n",
       "      <th>B</th>\n",
       "      <th>C</th>\n",
       "      <th>D</th>\n",
       "    </tr>\n",
       "  </thead>\n",
       "  <tbody>\n",
       "    <tr>\n",
       "      <th>2024-01-01</th>\n",
       "      <td>0.669886</td>\n",
       "      <td>0.364498</td>\n",
       "      <td>0.662801</td>\n",
       "      <td>0.432233</td>\n",
       "    </tr>\n",
       "    <tr>\n",
       "      <th>2024-01-02</th>\n",
       "      <td>-0.429506</td>\n",
       "      <td>0.688993</td>\n",
       "      <td>0.487049</td>\n",
       "      <td>-1.367373</td>\n",
       "    </tr>\n",
       "    <tr>\n",
       "      <th>2024-01-03</th>\n",
       "      <td>0.851313</td>\n",
       "      <td>-1.305526</td>\n",
       "      <td>-0.235975</td>\n",
       "      <td>0.036505</td>\n",
       "    </tr>\n",
       "    <tr>\n",
       "      <th>2024-01-04</th>\n",
       "      <td>-1.338739</td>\n",
       "      <td>-1.042051</td>\n",
       "      <td>-1.697539</td>\n",
       "      <td>-0.619307</td>\n",
       "    </tr>\n",
       "  </tbody>\n",
       "</table>\n",
       "</div>"
      ],
      "text/plain": [
       "                   A         B         C         D\n",
       "2024-01-01  0.669886  0.364498  0.662801  0.432233\n",
       "2024-01-02 -0.429506  0.688993  0.487049 -1.367373\n",
       "2024-01-03  0.851313 -1.305526 -0.235975  0.036505\n",
       "2024-01-04 -1.338739 -1.042051 -1.697539 -0.619307"
      ]
     },
     "execution_count": 28,
     "metadata": {},
     "output_type": "execute_result"
    }
   ],
   "source": [
    "df.iloc[0:4 , 0:4]"
   ]
  },
  {
   "cell_type": "code",
   "execution_count": 29,
   "metadata": {},
   "outputs": [
    {
     "data": {
      "text/html": [
       "<div>\n",
       "<style scoped>\n",
       "    .dataframe tbody tr th:only-of-type {\n",
       "        vertical-align: middle;\n",
       "    }\n",
       "\n",
       "    .dataframe tbody tr th {\n",
       "        vertical-align: top;\n",
       "    }\n",
       "\n",
       "    .dataframe thead th {\n",
       "        text-align: right;\n",
       "    }\n",
       "</style>\n",
       "<table border=\"1\" class=\"dataframe\">\n",
       "  <thead>\n",
       "    <tr style=\"text-align: right;\">\n",
       "      <th></th>\n",
       "      <th>A</th>\n",
       "      <th>B</th>\n",
       "      <th>C</th>\n",
       "      <th>D</th>\n",
       "      <th>E</th>\n",
       "    </tr>\n",
       "  </thead>\n",
       "  <tbody>\n",
       "    <tr>\n",
       "      <th>2024-01-02</th>\n",
       "      <td>-0.429506</td>\n",
       "      <td>0.688993</td>\n",
       "      <td>0.487049</td>\n",
       "      <td>-1.367373</td>\n",
       "      <td>0.114216</td>\n",
       "    </tr>\n",
       "    <tr>\n",
       "      <th>2024-01-03</th>\n",
       "      <td>0.851313</td>\n",
       "      <td>-1.305526</td>\n",
       "      <td>-0.235975</td>\n",
       "      <td>0.036505</td>\n",
       "      <td>-1.673769</td>\n",
       "    </tr>\n",
       "    <tr>\n",
       "      <th>2024-01-04</th>\n",
       "      <td>-1.338739</td>\n",
       "      <td>-1.042051</td>\n",
       "      <td>-1.697539</td>\n",
       "      <td>-0.619307</td>\n",
       "      <td>-0.853527</td>\n",
       "    </tr>\n",
       "    <tr>\n",
       "      <th>2024-01-05</th>\n",
       "      <td>-1.050175</td>\n",
       "      <td>0.482571</td>\n",
       "      <td>0.275985</td>\n",
       "      <td>-0.184600</td>\n",
       "      <td>0.049065</td>\n",
       "    </tr>\n",
       "  </tbody>\n",
       "</table>\n",
       "</div>"
      ],
      "text/plain": [
       "                   A         B         C         D         E\n",
       "2024-01-02 -0.429506  0.688993  0.487049 -1.367373  0.114216\n",
       "2024-01-03  0.851313 -1.305526 -0.235975  0.036505 -1.673769\n",
       "2024-01-04 -1.338739 -1.042051 -1.697539 -0.619307 -0.853527\n",
       "2024-01-05 -1.050175  0.482571  0.275985 -0.184600  0.049065"
      ]
     },
     "execution_count": 29,
     "metadata": {},
     "output_type": "execute_result"
    }
   ],
   "source": [
    "df.iloc[1:5, :]"
   ]
  },
  {
   "cell_type": "code",
   "execution_count": null,
   "metadata": {},
   "outputs": [],
   "source": []
  },
  {
   "cell_type": "markdown",
   "metadata": {},
   "source": [
    "#  boleans operator"
   ]
  },
  {
   "cell_type": "code",
   "execution_count": 30,
   "metadata": {},
   "outputs": [
    {
     "data": {
      "text/html": [
       "<div>\n",
       "<style scoped>\n",
       "    .dataframe tbody tr th:only-of-type {\n",
       "        vertical-align: middle;\n",
       "    }\n",
       "\n",
       "    .dataframe tbody tr th {\n",
       "        vertical-align: top;\n",
       "    }\n",
       "\n",
       "    .dataframe thead th {\n",
       "        text-align: right;\n",
       "    }\n",
       "</style>\n",
       "<table border=\"1\" class=\"dataframe\">\n",
       "  <thead>\n",
       "    <tr style=\"text-align: right;\">\n",
       "      <th></th>\n",
       "      <th>A</th>\n",
       "      <th>B</th>\n",
       "      <th>C</th>\n",
       "      <th>D</th>\n",
       "      <th>E</th>\n",
       "    </tr>\n",
       "  </thead>\n",
       "  <tbody>\n",
       "    <tr>\n",
       "      <th>2024-01-01</th>\n",
       "      <td>0.669886</td>\n",
       "      <td>0.364498</td>\n",
       "      <td>0.662801</td>\n",
       "      <td>0.432233</td>\n",
       "      <td>-0.203809</td>\n",
       "    </tr>\n",
       "    <tr>\n",
       "      <th>2024-01-03</th>\n",
       "      <td>0.851313</td>\n",
       "      <td>-1.305526</td>\n",
       "      <td>-0.235975</td>\n",
       "      <td>0.036505</td>\n",
       "      <td>-1.673769</td>\n",
       "    </tr>\n",
       "  </tbody>\n",
       "</table>\n",
       "</div>"
      ],
      "text/plain": [
       "                   A         B         C         D         E\n",
       "2024-01-01  0.669886  0.364498  0.662801  0.432233 -0.203809\n",
       "2024-01-03  0.851313 -1.305526 -0.235975  0.036505 -1.673769"
      ]
     },
     "execution_count": 30,
     "metadata": {},
     "output_type": "execute_result"
    }
   ],
   "source": [
    "df[df[\"A\"] > 0]"
   ]
  },
  {
   "cell_type": "code",
   "execution_count": 31,
   "metadata": {},
   "outputs": [
    {
     "data": {
      "text/html": [
       "<div>\n",
       "<style scoped>\n",
       "    .dataframe tbody tr th:only-of-type {\n",
       "        vertical-align: middle;\n",
       "    }\n",
       "\n",
       "    .dataframe tbody tr th {\n",
       "        vertical-align: top;\n",
       "    }\n",
       "\n",
       "    .dataframe thead th {\n",
       "        text-align: right;\n",
       "    }\n",
       "</style>\n",
       "<table border=\"1\" class=\"dataframe\">\n",
       "  <thead>\n",
       "    <tr style=\"text-align: right;\">\n",
       "      <th></th>\n",
       "      <th>A</th>\n",
       "      <th>B</th>\n",
       "      <th>C</th>\n",
       "      <th>D</th>\n",
       "      <th>E</th>\n",
       "    </tr>\n",
       "  </thead>\n",
       "  <tbody>\n",
       "    <tr>\n",
       "      <th>2024-01-01</th>\n",
       "      <td>0.669886</td>\n",
       "      <td>0.364498</td>\n",
       "      <td>0.662801</td>\n",
       "      <td>0.432233</td>\n",
       "      <td>NaN</td>\n",
       "    </tr>\n",
       "    <tr>\n",
       "      <th>2024-01-02</th>\n",
       "      <td>NaN</td>\n",
       "      <td>0.688993</td>\n",
       "      <td>0.487049</td>\n",
       "      <td>NaN</td>\n",
       "      <td>0.114216</td>\n",
       "    </tr>\n",
       "    <tr>\n",
       "      <th>2024-01-03</th>\n",
       "      <td>0.851313</td>\n",
       "      <td>NaN</td>\n",
       "      <td>NaN</td>\n",
       "      <td>0.036505</td>\n",
       "      <td>NaN</td>\n",
       "    </tr>\n",
       "    <tr>\n",
       "      <th>2024-01-04</th>\n",
       "      <td>NaN</td>\n",
       "      <td>NaN</td>\n",
       "      <td>NaN</td>\n",
       "      <td>NaN</td>\n",
       "      <td>NaN</td>\n",
       "    </tr>\n",
       "    <tr>\n",
       "      <th>2024-01-05</th>\n",
       "      <td>NaN</td>\n",
       "      <td>0.482571</td>\n",
       "      <td>0.275985</td>\n",
       "      <td>NaN</td>\n",
       "      <td>0.049065</td>\n",
       "    </tr>\n",
       "    <tr>\n",
       "      <th>2024-01-06</th>\n",
       "      <td>NaN</td>\n",
       "      <td>0.182420</td>\n",
       "      <td>NaN</td>\n",
       "      <td>NaN</td>\n",
       "      <td>NaN</td>\n",
       "    </tr>\n",
       "  </tbody>\n",
       "</table>\n",
       "</div>"
      ],
      "text/plain": [
       "                   A         B         C         D         E\n",
       "2024-01-01  0.669886  0.364498  0.662801  0.432233       NaN\n",
       "2024-01-02       NaN  0.688993  0.487049       NaN  0.114216\n",
       "2024-01-03  0.851313       NaN       NaN  0.036505       NaN\n",
       "2024-01-04       NaN       NaN       NaN       NaN       NaN\n",
       "2024-01-05       NaN  0.482571  0.275985       NaN  0.049065\n",
       "2024-01-06       NaN  0.182420       NaN       NaN       NaN"
      ]
     },
     "execution_count": 31,
     "metadata": {},
     "output_type": "execute_result"
    }
   ],
   "source": [
    "df[df>0]"
   ]
  },
  {
   "cell_type": "code",
   "execution_count": 32,
   "metadata": {},
   "outputs": [
    {
     "data": {
      "text/html": [
       "<div>\n",
       "<style scoped>\n",
       "    .dataframe tbody tr th:only-of-type {\n",
       "        vertical-align: middle;\n",
       "    }\n",
       "\n",
       "    .dataframe tbody tr th {\n",
       "        vertical-align: top;\n",
       "    }\n",
       "\n",
       "    .dataframe thead th {\n",
       "        text-align: right;\n",
       "    }\n",
       "</style>\n",
       "<table border=\"1\" class=\"dataframe\">\n",
       "  <thead>\n",
       "    <tr style=\"text-align: right;\">\n",
       "      <th></th>\n",
       "      <th>A</th>\n",
       "      <th>B</th>\n",
       "      <th>C</th>\n",
       "      <th>D</th>\n",
       "      <th>E</th>\n",
       "    </tr>\n",
       "  </thead>\n",
       "  <tbody>\n",
       "    <tr>\n",
       "      <th>2024-01-01</th>\n",
       "      <td>0.669886</td>\n",
       "      <td>0.364498</td>\n",
       "      <td>0.662801</td>\n",
       "      <td>0.432233</td>\n",
       "      <td>-0.203809</td>\n",
       "    </tr>\n",
       "    <tr>\n",
       "      <th>2024-01-02</th>\n",
       "      <td>-0.429506</td>\n",
       "      <td>0.688993</td>\n",
       "      <td>0.487049</td>\n",
       "      <td>-1.367373</td>\n",
       "      <td>0.114216</td>\n",
       "    </tr>\n",
       "    <tr>\n",
       "      <th>2024-01-03</th>\n",
       "      <td>0.851313</td>\n",
       "      <td>-1.305526</td>\n",
       "      <td>-0.235975</td>\n",
       "      <td>0.036505</td>\n",
       "      <td>-1.673769</td>\n",
       "    </tr>\n",
       "    <tr>\n",
       "      <th>2024-01-04</th>\n",
       "      <td>-1.338739</td>\n",
       "      <td>-1.042051</td>\n",
       "      <td>-1.697539</td>\n",
       "      <td>-0.619307</td>\n",
       "      <td>-0.853527</td>\n",
       "    </tr>\n",
       "    <tr>\n",
       "      <th>2024-01-05</th>\n",
       "      <td>-1.050175</td>\n",
       "      <td>0.482571</td>\n",
       "      <td>0.275985</td>\n",
       "      <td>-0.184600</td>\n",
       "      <td>0.049065</td>\n",
       "    </tr>\n",
       "    <tr>\n",
       "      <th>2024-01-06</th>\n",
       "      <td>-0.095259</td>\n",
       "      <td>0.182420</td>\n",
       "      <td>-1.160638</td>\n",
       "      <td>-1.425029</td>\n",
       "      <td>-0.729846</td>\n",
       "    </tr>\n",
       "  </tbody>\n",
       "</table>\n",
       "</div>"
      ],
      "text/plain": [
       "                   A         B         C         D         E\n",
       "2024-01-01  0.669886  0.364498  0.662801  0.432233 -0.203809\n",
       "2024-01-02 -0.429506  0.688993  0.487049 -1.367373  0.114216\n",
       "2024-01-03  0.851313 -1.305526 -0.235975  0.036505 -1.673769\n",
       "2024-01-04 -1.338739 -1.042051 -1.697539 -0.619307 -0.853527\n",
       "2024-01-05 -1.050175  0.482571  0.275985 -0.184600  0.049065\n",
       "2024-01-06 -0.095259  0.182420 -1.160638 -1.425029 -0.729846"
      ]
     },
     "execution_count": 32,
     "metadata": {},
     "output_type": "execute_result"
    }
   ],
   "source": [
    "df"
   ]
  }
 ],
 "metadata": {
  "kernelspec": {
   "display_name": "Python 3",
   "language": "python",
   "name": "python3"
  },
  "language_info": {
   "codemirror_mode": {
    "name": "ipython",
    "version": 3
   },
   "file_extension": ".py",
   "mimetype": "text/x-python",
   "name": "python",
   "nbconvert_exporter": "python",
   "pygments_lexer": "ipython3",
   "version": "3.11.4"
  }
 },
 "nbformat": 4,
 "nbformat_minor": 2
}
